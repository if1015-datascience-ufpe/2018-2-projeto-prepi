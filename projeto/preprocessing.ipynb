{
 "cells": [
  {
   "cell_type": "code",
   "execution_count": 4,
   "metadata": {},
   "outputs": [],
   "source": [
    "import pandas as pd\n",
    "import numpy as np"
   ]
  },
  {
   "cell_type": "code",
   "execution_count": 12,
   "metadata": {},
   "outputs": [],
   "source": [
    "data_set = pd.read_csv('./data/Womens Clothing E-Commerce Reviews.csv')\n",
    "data_set = data_set.drop(data_set.columns[0], axis=1)"
   ]
  },
  {
   "cell_type": "code",
   "execution_count": 36,
   "metadata": {},
   "outputs": [],
   "source": [
    "reviews = data_set['Review Text'].sample(n=100)\n",
    "\n",
    "rr = reviews.values\n",
    "rr = rr.tolist()\n",
    "rr = list(map(lambda x: x if type(x) == str else \"\", rr))\n",
    "\n",
    "a = [10*n for n in range(11)]\n",
    "\n",
    "bb = [rr[a[n-1]:a[n]] for n, _ in enumerate(a)][1:]\n",
    "\n",
    "for n in range(10):\n",
    "    file = open('./Review/file%s.txt'%n, 'w')\n",
    "    file.write(\"\\n\".join(bb[n]))\n",
    "    file.close()"
   ]
  },
  {
   "cell_type": "code",
   "execution_count": 39,
   "metadata": {},
   "outputs": [],
   "source": [
    "bins = pd.IntervalIndex.from_tuples([(0, 25), (25, 60), (60, 200)])\n",
    "data_set['age_category'] = pd.cut(data_set.Age, bins)\n",
    "data_set.age_category.cat.categories = [\"jovens\", \"adultos\", \"terceira idade\"]"
   ]
  },
  {
   "cell_type": "code",
   "execution_count": null,
   "metadata": {},
   "outputs": [],
   "source": []
  }
 ],
 "metadata": {
  "kernelspec": {
   "display_name": "Python 3",
   "language": "python",
   "name": "python3"
  },
  "language_info": {
   "codemirror_mode": {
    "name": "ipython",
    "version": 3
   },
   "file_extension": ".py",
   "mimetype": "text/x-python",
   "name": "python",
   "nbconvert_exporter": "python",
   "pygments_lexer": "ipython3",
   "version": "3.6.5"
  }
 },
 "nbformat": 4,
 "nbformat_minor": 2
}
