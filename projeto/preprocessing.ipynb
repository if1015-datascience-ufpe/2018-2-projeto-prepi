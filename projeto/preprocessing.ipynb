{
 "cells": [
  {
   "cell_type": "code",
   "execution_count": 1,
   "metadata": {},
   "outputs": [],
   "source": [
    "import pandas as pd\n",
    "import numpy as np"
   ]
  },
  {
   "cell_type": "code",
   "execution_count": 2,
   "metadata": {},
   "outputs": [],
   "source": [
    "data_set = pd.read_csv('./data/Womens Clothing E-Commerce Reviews.csv')\n",
    "data_set = data_set.drop(data_set.columns[0], axis=1)"
   ]
  },
  {
   "cell_type": "code",
   "execution_count": 3,
   "metadata": {},
   "outputs": [],
   "source": [
    "reviews = data_set['Review Text'].sample(n=100)\n",
    "\n",
    "rr = reviews.values\n",
    "rr = rr.tolist()\n",
    "rr = list(map(lambda x: x if type(x) == str else \"\", rr))\n",
    "\n",
    "a = [10*n for n in range(11)]\n",
    "\n",
    "bb = [rr[a[n-1]:a[n]] for n, _ in enumerate(a)][1:]\n",
    "\n",
    "for n in range(10):\n",
    "    file = open('./Review/file%s.txt'%n, 'w')\n",
    "    file.write(\"\\n\".join(bb[n]))\n",
    "    file.close()"
   ]
  },
  {
   "cell_type": "code",
   "execution_count": 4,
   "metadata": {},
   "outputs": [],
   "source": [
    "bins_age = pd.IntervalIndex.from_tuples([(0, 25), (25, 60), (60, 200)])\n",
    "data_set['age_category'] = pd.cut(data_set.Age, bins_age)\n",
    "data_set.age_category.cat.categories = [\"jovens\", \"adultos\", \"terceira idade\"]"
   ]
  },
  {
   "cell_type": "code",
   "execution_count": 5,
   "metadata": {},
   "outputs": [],
   "source": [
    "bins_rating = pd.IntervalIndex.from_tuples([(0, 2), (2, 4), (4, 10)])\n",
    "data_set['rating_category'] = pd.cut(data_set.Rating, bins_rating)\n",
    "data_set.rating_category.cat.categories = [\"muito ruim\", \"razoável\", \"boa\"]"
   ]
  },
  {
   "cell_type": "code",
   "execution_count": 15,
   "metadata": {},
   "outputs": [
    {
     "data": {
      "text/plain": [
       "array(['Initmates', 'General', 'General Petite', nan], dtype=object)"
      ]
     },
     "execution_count": 15,
     "metadata": {},
     "output_type": "execute_result"
    }
   ],
   "source": [
    "division_name = data_set['Division Name']\n",
    "division_name.unique()"
   ]
  },
  {
   "cell_type": "code",
   "execution_count": 16,
   "metadata": {},
   "outputs": [
    {
     "data": {
      "text/plain": [
       "array(['Intimate', 'Dresses', 'Bottoms', 'Tops', 'Jackets', 'Trend', nan],\n",
       "      dtype=object)"
      ]
     },
     "execution_count": 16,
     "metadata": {},
     "output_type": "execute_result"
    }
   ],
   "source": [
    "departament_name = data_set['Department Name']\n",
    "departament_name.unique()"
   ]
  },
  {
   "cell_type": "code",
   "execution_count": 23,
   "metadata": {},
   "outputs": [
    {
     "data": {
      "text/plain": [
       "array(['Intimates', 'Dresses', 'Pants', 'Blouses', 'Knits', 'Outerwear',\n",
       "       'Lounge', 'Sweaters', 'Skirts', 'Fine gauge', 'Sleep', 'Jackets',\n",
       "       'Swim', 'Trend', 'Jeans', 'Legwear', 'Shorts', 'Layering',\n",
       "       'Casual bottoms', nan, 'Chemises'], dtype=object)"
      ]
     },
     "execution_count": 23,
     "metadata": {},
     "output_type": "execute_result"
    }
   ],
   "source": [
    "class_name = data_set['Class Name']\n",
    "class_name.unique()"
   ]
  },
  {
   "cell_type": "code",
   "execution_count": 4,
   "metadata": {},
   "outputs": [
    {
     "name": "stdout",
     "output_type": "stream",
     "text": [
      "Clothing ID                   0\n",
      "Age                           0\n",
      "Title                      3810\n",
      "Review Text                 845\n",
      "Rating                        0\n",
      "Recommended IND               0\n",
      "Positive Feedback Count       0\n",
      "Division Name                14\n",
      "Department Name              14\n",
      "Class Name                   14\n",
      "dtype: int64\n"
     ]
    }
   ],
   "source": [
    "print(data_set.isnull().sum())\n",
    "data_set = data_set.dropna(subset=['Review Text'])\n",
    "data_set = data_set.sample(n=1000)\n",
    "data_set.to_csv('./data/only1000.csv', index=False)"
   ]
  },
  {
   "cell_type": "code",
   "execution_count": 5,
   "metadata": {
    "collapsed": true
   },
   "outputs": [
    {
     "name": "stdout",
     "output_type": "stream",
     "text": [
      "Collecting requests\n",
      "\u001b[?25l  Downloading https://files.pythonhosted.org/packages/ff/17/5cbb026005115301a8fb2f9b0e3e8d32313142fe8b617070e7baad20554f/requests-2.20.1-py2.py3-none-any.whl (57kB)\n",
      "\u001b[K    100% |████████████████████████████████| 61kB 442kB/s ta 0:00:01\n",
      "\u001b[?25hCollecting idna<2.8,>=2.5 (from requests)\n",
      "\u001b[?25l  Downloading https://files.pythonhosted.org/packages/4b/2a/0276479a4b3caeb8a8c1af2f8e4355746a97fab05a372e4a2c6a6b876165/idna-2.7-py2.py3-none-any.whl (58kB)\n",
      "\u001b[K    100% |████████████████████████████████| 61kB 2.3MB/s ta 0:00:01\n",
      "\u001b[?25hCollecting urllib3<1.25,>=1.21.1 (from requests)\n",
      "  Using cached https://files.pythonhosted.org/packages/62/00/ee1d7de624db8ba7090d1226aebefab96a2c71cd5cfa7629d6ad3f61b79e/urllib3-1.24.1-py2.py3-none-any.whl\n",
      "Collecting certifi>=2017.4.17 (from requests)\n",
      "\u001b[?25l  Downloading https://files.pythonhosted.org/packages/56/9d/1d02dd80bc4cd955f98980f28c5ee2200e1209292d5f9e9cc8d030d18655/certifi-2018.10.15-py2.py3-none-any.whl (146kB)\n",
      "\u001b[K    100% |████████████████████████████████| 153kB 1.7MB/s ta 0:00:01\n",
      "\u001b[?25hCollecting chardet<3.1.0,>=3.0.2 (from requests)\n",
      "\u001b[?25l  Downloading https://files.pythonhosted.org/packages/bc/a9/01ffebfb562e4274b6487b4bb1ddec7ca55ec7510b22e4c51f14098443b8/chardet-3.0.4-py2.py3-none-any.whl (133kB)\n",
      "\u001b[K    100% |████████████████████████████████| 143kB 5.9MB/s ta 0:00:01\n",
      "\u001b[?25hInstalling collected packages: idna, urllib3, certifi, chardet, requests\n",
      "Successfully installed certifi-2018.10.15 chardet-3.0.4 idna-2.7 requests-2.20.1 urllib3-1.24.1\n",
      "\u001b[33mYou are using pip version 10.0.1, however version 18.1 is available.\n",
      "You should consider upgrading via the 'pip install --upgrade pip' command.\u001b[0m\n"
     ]
    }
   ],
   "source": [
    "!pip install requests "
   ]
  },
  {
   "cell_type": "code",
   "execution_count": 20,
   "metadata": {},
   "outputs": [],
   "source": [
    "import requests as rq\n",
    "import json\n",
    "\n",
    "def analyze(text):\n",
    "    payload = {'text': text}\n",
    "    headers = {'content-type': 'application/json'}\n",
    "\n",
    "    gl = rq.post('http://localhost:3000/analyze', json=payload, headers=headers)\n",
    "    return gl.content"
   ]
  },
  {
   "cell_type": "code",
   "execution_count": 21,
   "metadata": {},
   "outputs": [],
   "source": [
    "ds = data_set.sample(n=3)"
   ]
  },
  {
   "cell_type": "code",
   "execution_count": 23,
   "metadata": {},
   "outputs": [
    {
     "data": {
      "text/html": [
       "<div>\n",
       "<style scoped>\n",
       "    .dataframe tbody tr th:only-of-type {\n",
       "        vertical-align: middle;\n",
       "    }\n",
       "\n",
       "    .dataframe tbody tr th {\n",
       "        vertical-align: top;\n",
       "    }\n",
       "\n",
       "    .dataframe thead th {\n",
       "        text-align: right;\n",
       "    }\n",
       "</style>\n",
       "<table border=\"1\" class=\"dataframe\">\n",
       "  <thead>\n",
       "    <tr style=\"text-align: right;\">\n",
       "      <th></th>\n",
       "      <th>Clothing ID</th>\n",
       "      <th>Age</th>\n",
       "      <th>Title</th>\n",
       "      <th>Review Text</th>\n",
       "      <th>Rating</th>\n",
       "      <th>Recommended IND</th>\n",
       "      <th>Positive Feedback Count</th>\n",
       "      <th>Division Name</th>\n",
       "      <th>Department Name</th>\n",
       "      <th>Class Name</th>\n",
       "      <th>result</th>\n",
       "    </tr>\n",
       "  </thead>\n",
       "  <tbody>\n",
       "    <tr>\n",
       "      <th>5313</th>\n",
       "      <td>895</td>\n",
       "      <td>54</td>\n",
       "      <td>Keeper</td>\n",
       "      <td>Wasn't expecting this to look good on when i g...</td>\n",
       "      <td>4</td>\n",
       "      <td>1</td>\n",
       "      <td>0</td>\n",
       "      <td>General</td>\n",
       "      <td>Tops</td>\n",
       "      <td>Fine gauge</td>\n",
       "      <td>b'{\"usage\":{\"text_units\":1,\"text_characters\":5...</td>\n",
       "    </tr>\n",
       "    <tr>\n",
       "      <th>12687</th>\n",
       "      <td>866</td>\n",
       "      <td>50</td>\n",
       "      <td>NaN</td>\n",
       "      <td>Such a cute top! can be dressed up or down. i ...</td>\n",
       "      <td>4</td>\n",
       "      <td>1</td>\n",
       "      <td>0</td>\n",
       "      <td>General</td>\n",
       "      <td>Tops</td>\n",
       "      <td>Knits</td>\n",
       "      <td>b'{\"usage\":{\"text_units\":1,\"text_characters\":9...</td>\n",
       "    </tr>\n",
       "    <tr>\n",
       "      <th>19739</th>\n",
       "      <td>877</td>\n",
       "      <td>29</td>\n",
       "      <td>Too short and too wide</td>\n",
       "      <td>I&amp;#39;m taller (5&amp;#39;8), so it&amp;#39;s not unco...</td>\n",
       "      <td>2</td>\n",
       "      <td>0</td>\n",
       "      <td>0</td>\n",
       "      <td>General</td>\n",
       "      <td>Tops</td>\n",
       "      <td>Knits</td>\n",
       "      <td>b'{\"usage\":{\"text_units\":1,\"text_characters\":2...</td>\n",
       "    </tr>\n",
       "  </tbody>\n",
       "</table>\n",
       "</div>"
      ],
      "text/plain": [
       "       Clothing ID  Age                   Title  \\\n",
       "5313           895   54                  Keeper   \n",
       "12687          866   50                     NaN   \n",
       "19739          877   29  Too short and too wide   \n",
       "\n",
       "                                             Review Text  Rating  \\\n",
       "5313   Wasn't expecting this to look good on when i g...       4   \n",
       "12687  Such a cute top! can be dressed up or down. i ...       4   \n",
       "19739  I&#39;m taller (5&#39;8), so it&#39;s not unco...       2   \n",
       "\n",
       "       Recommended IND  Positive Feedback Count Division Name Department Name  \\\n",
       "5313                 1                        0       General            Tops   \n",
       "12687                1                        0       General            Tops   \n",
       "19739                0                        0       General            Tops   \n",
       "\n",
       "       Class Name                                             result  \n",
       "5313   Fine gauge  b'{\"usage\":{\"text_units\":1,\"text_characters\":5...  \n",
       "12687       Knits  b'{\"usage\":{\"text_units\":1,\"text_characters\":9...  \n",
       "19739       Knits  b'{\"usage\":{\"text_units\":1,\"text_characters\":2...  "
      ]
     },
     "execution_count": 23,
     "metadata": {},
     "output_type": "execute_result"
    }
   ],
   "source": [
    "ds[\"result\"] = ds['Review Text'].apply(lambda x: analyze(x))\n",
    "ds"
   ]
  },
  {
   "cell_type": "code",
   "execution_count": 65,
   "metadata": {},
   "outputs": [],
   "source": [
    "aa = ds['result'].apply(lambda x: json.loads(x)['entities'])"
   ]
  },
  {
   "cell_type": "code",
   "execution_count": 57,
   "metadata": {},
   "outputs": [],
   "source": [
    "bb = aa.values.tolist()[2]"
   ]
  },
  {
   "cell_type": "code",
   "execution_count": 51,
   "metadata": {},
   "outputs": [],
   "source": [
    "def bemMalNone(cases, cat='PRODUCT'):\n",
    "    bem = list(filter(lambda x: x['disambiguation']['subtype'][0] == 'BEM', cases))\n",
    "    mal = list(filter(lambda x: x['disambiguation']['subtype'][0] == 'MAL', cases))\n",
    "    if len(bem) == 0 and len(mal) == 0:\n",
    "        return (cat,'NONE')\n",
    "    if len(bem) > len(mal):\n",
    "        return (cat,'BEM')\n",
    "    return (cat,'MAL')\n",
    "\n",
    "def classify(res):\n",
    "    prod = list(filter(lambda x: x['type'] == 'PRODUCT', res))\n",
    "    comp = list(filter(lambda x: x['type'] == 'COMPANY', res))\n",
    "    if len(prod) == 0 and len(comp) == 0:\n",
    "        return ('NONE', 'NONE')\n",
    "    if len(prod) > len(comp):\n",
    "        return bemMalNone(prod, 'PRODUCT')\n",
    "    return bemMalNone(comp, 'COMPANY')\n"
   ]
  },
  {
   "cell_type": "code",
   "execution_count": 66,
   "metadata": {},
   "outputs": [],
   "source": [
    "ds['classify'] = aa.apply(lambda x: classify(x))"
   ]
  },
  {
   "cell_type": "code",
   "execution_count": 69,
   "metadata": {},
   "outputs": [],
   "source": [
    "ds['tipo'] = ds['classify'].apply(lambda x: x[0])\n",
    "ds['bemmal'] = ds['classify'].apply(lambda x: x[1])"
   ]
  },
  {
   "cell_type": "code",
   "execution_count": 70,
   "metadata": {},
   "outputs": [
    {
     "data": {
      "text/html": [
       "<div>\n",
       "<style scoped>\n",
       "    .dataframe tbody tr th:only-of-type {\n",
       "        vertical-align: middle;\n",
       "    }\n",
       "\n",
       "    .dataframe tbody tr th {\n",
       "        vertical-align: top;\n",
       "    }\n",
       "\n",
       "    .dataframe thead th {\n",
       "        text-align: right;\n",
       "    }\n",
       "</style>\n",
       "<table border=\"1\" class=\"dataframe\">\n",
       "  <thead>\n",
       "    <tr style=\"text-align: right;\">\n",
       "      <th></th>\n",
       "      <th>Clothing ID</th>\n",
       "      <th>Age</th>\n",
       "      <th>Title</th>\n",
       "      <th>Review Text</th>\n",
       "      <th>Rating</th>\n",
       "      <th>Recommended IND</th>\n",
       "      <th>Positive Feedback Count</th>\n",
       "      <th>Division Name</th>\n",
       "      <th>Department Name</th>\n",
       "      <th>Class Name</th>\n",
       "      <th>result</th>\n",
       "      <th>classify</th>\n",
       "      <th>tipo</th>\n",
       "      <th>bemmal</th>\n",
       "    </tr>\n",
       "  </thead>\n",
       "  <tbody>\n",
       "    <tr>\n",
       "      <th>5313</th>\n",
       "      <td>895</td>\n",
       "      <td>54</td>\n",
       "      <td>Keeper</td>\n",
       "      <td>Wasn't expecting this to look good on when i g...</td>\n",
       "      <td>4</td>\n",
       "      <td>1</td>\n",
       "      <td>0</td>\n",
       "      <td>General</td>\n",
       "      <td>Tops</td>\n",
       "      <td>Fine gauge</td>\n",
       "      <td>b'{\"usage\":{\"text_units\":1,\"text_characters\":5...</td>\n",
       "      <td>(PRODUCT, BEM)</td>\n",
       "      <td>PRODUCT</td>\n",
       "      <td>BEM</td>\n",
       "    </tr>\n",
       "    <tr>\n",
       "      <th>12687</th>\n",
       "      <td>866</td>\n",
       "      <td>50</td>\n",
       "      <td>NaN</td>\n",
       "      <td>Such a cute top! can be dressed up or down. i ...</td>\n",
       "      <td>4</td>\n",
       "      <td>1</td>\n",
       "      <td>0</td>\n",
       "      <td>General</td>\n",
       "      <td>Tops</td>\n",
       "      <td>Knits</td>\n",
       "      <td>b'{\"usage\":{\"text_units\":1,\"text_characters\":9...</td>\n",
       "      <td>(NONE, NONE)</td>\n",
       "      <td>NONE</td>\n",
       "      <td>NONE</td>\n",
       "    </tr>\n",
       "    <tr>\n",
       "      <th>19739</th>\n",
       "      <td>877</td>\n",
       "      <td>29</td>\n",
       "      <td>Too short and too wide</td>\n",
       "      <td>I&amp;#39;m taller (5&amp;#39;8), so it&amp;#39;s not unco...</td>\n",
       "      <td>2</td>\n",
       "      <td>0</td>\n",
       "      <td>0</td>\n",
       "      <td>General</td>\n",
       "      <td>Tops</td>\n",
       "      <td>Knits</td>\n",
       "      <td>b'{\"usage\":{\"text_units\":1,\"text_characters\":2...</td>\n",
       "      <td>(COMPANY, NONE)</td>\n",
       "      <td>COMPANY</td>\n",
       "      <td>NONE</td>\n",
       "    </tr>\n",
       "  </tbody>\n",
       "</table>\n",
       "</div>"
      ],
      "text/plain": [
       "       Clothing ID  Age                   Title  \\\n",
       "5313           895   54                  Keeper   \n",
       "12687          866   50                     NaN   \n",
       "19739          877   29  Too short and too wide   \n",
       "\n",
       "                                             Review Text  Rating  \\\n",
       "5313   Wasn't expecting this to look good on when i g...       4   \n",
       "12687  Such a cute top! can be dressed up or down. i ...       4   \n",
       "19739  I&#39;m taller (5&#39;8), so it&#39;s not unco...       2   \n",
       "\n",
       "       Recommended IND  Positive Feedback Count Division Name Department Name  \\\n",
       "5313                 1                        0       General            Tops   \n",
       "12687                1                        0       General            Tops   \n",
       "19739                0                        0       General            Tops   \n",
       "\n",
       "       Class Name                                             result  \\\n",
       "5313   Fine gauge  b'{\"usage\":{\"text_units\":1,\"text_characters\":5...   \n",
       "12687       Knits  b'{\"usage\":{\"text_units\":1,\"text_characters\":9...   \n",
       "19739       Knits  b'{\"usage\":{\"text_units\":1,\"text_characters\":2...   \n",
       "\n",
       "              classify     tipo bemmal  \n",
       "5313    (PRODUCT, BEM)  PRODUCT    BEM  \n",
       "12687     (NONE, NONE)     NONE   NONE  \n",
       "19739  (COMPANY, NONE)  COMPANY   NONE  "
      ]
     },
     "execution_count": 70,
     "metadata": {},
     "output_type": "execute_result"
    }
   ],
   "source": [
    "ds"
   ]
  },
  {
   "cell_type": "code",
   "execution_count": null,
   "metadata": {},
   "outputs": [],
   "source": []
  }
 ],
 "metadata": {
  "kernelspec": {
   "display_name": "Python 3",
   "language": "python",
   "name": "python3"
  },
  "language_info": {
   "codemirror_mode": {
    "name": "ipython",
    "version": 3
   },
   "file_extension": ".py",
   "mimetype": "text/x-python",
   "name": "python",
   "nbconvert_exporter": "python",
   "pygments_lexer": "ipython3",
   "version": "3.7.1"
  }
 },
 "nbformat": 4,
 "nbformat_minor": 2
}
